{
 "cells": [
  {
   "cell_type": "code",
   "execution_count": null,
   "id": "4636940c-f97a-4a18-a553-c9748ae9328b",
   "metadata": {},
   "outputs": [],
   "source": [
    "import pandas as pd\n",
    "\n",
    "roda = {'diameter': [10, 14, 15], \n",
    "         'lebar': [20, 14, 15]}\n",
    "\n",
    "roda_df = pd.DataFrame(roda)\n",
    "roda_df"
   ]
  },
  {
   "cell_type": "code",
   "execution_count": null,
   "id": "612e1463-0356-4e20-a646-d86c9c655515",
   "metadata": {},
   "outputs": [],
   "source": [
    "import matplotlib.pyplot as plt\n",
    "\n",
    "roda_df.plot(kind='scatter', x='diameter', y='lebar')\n",
    "\n",
    "plt.title('Perbandingan Diameter dan lebar roda')\n",
    "plt.xlabel('Diameter (inch)')\n",
    "plt.ylabel('lebar (inch)')\n",
    "plt.xlim(0, 30)\n",
    "plt.ylim(0, 35)\n",
    "plt.grid(True)\n",
    "plt.show()"
   ]
  },
  {
   "cell_type": "code",
   "execution_count": null,
   "id": "d81ec545-3526-4cec-836f-8b19a7234a3b",
   "metadata": {},
   "outputs": [],
   "source": [
    "import numpy as np\n",
    "\n",
    "X = np.array(roda_df['diameter'])\n",
    "y = np.array(roda_df['lebar'])\n",
    "\n",
    "print(f'X: {X}')\n",
    "print(f'y: {y}')"
   ]
  },
  {
   "cell_type": "code",
   "execution_count": null,
   "id": "90781a54-2d00-4d70-a600-c09e7bf5b9f7",
   "metadata": {},
   "outputs": [],
   "source": [
    "X = X.reshape(-2, 1)\n",
    "X.shape"
   ]
  },
  {
   "cell_type": "code",
   "execution_count": null,
   "id": "d6267576-d997-41a6-88cb-96052e987271",
   "metadata": {},
   "outputs": [],
   "source": [
    "X"
   ]
  },
  {
   "cell_type": "code",
   "execution_count": null,
   "id": "2e81e99d-daf3-4449-a363-e43e31f50e27",
   "metadata": {},
   "outputs": [],
   "source": [
    "X_vis = np.array([0, 25]).reshape(-1, 1)\n",
    "y_vis = model.predict(X_vis)"
   ]
  },
  {
   "cell_type": "code",
   "execution_count": null,
   "id": "f8f7ca94-a98a-4960-9941-207e0544b033",
   "metadata": {},
   "outputs": [],
   "source": [
    "plt.scatter(X, y)\n",
    "plt.plot(X_vis, y_vis, '-r')\n",
    "\n",
    "plt.title('Perbandingan Diameter dan lebar roda')\n",
    "plt.xlabel('Diameter (inch)')\n",
    "plt.ylabel('lebar (inch)')\n",
    "plt.xlim(0, 30)\n",
    "plt.ylim(0, 35)\n",
    "plt.grid(True)\n",
    "plt.show()"
   ]
  },
  {
   "cell_type": "code",
   "execution_count": null,
   "id": "a9441012-b903-4fbd-a000-d1c9c8adec4b",
   "metadata": {},
   "outputs": [],
   "source": [
    "print(f'intercept: {model.intercept_}')\n",
    "print(f'slope: {model.coef_}')"
   ]
  },
  {
   "cell_type": "code",
   "execution_count": null,
   "id": "f1d07bf2-0c39-487c-8619-192070710f2e",
   "metadata": {},
   "outputs": [],
   "source": [
    "print(f'X:\\n{X}\\n')\n",
    "print(f'X flatten: {X.flatten()}\\n')\n",
    "print(f'y: {y}')"
   ]
  },
  {
   "cell_type": "code",
   "execution_count": null,
   "id": "9bcf3fea-e0ee-4131-a4bc-218e3ce38661",
   "metadata": {},
   "outputs": [],
   "source": [
    "variance_x = np.var(X.flatten(), ddof=1)\n",
    "\n",
    "print(f'variance: {variance_x}')"
   ]
  },
  {
   "cell_type": "code",
   "execution_count": null,
   "id": "083c1e8a-46f0-4c02-8535-3db5548d8a15",
   "metadata": {},
   "outputs": [],
   "source": [
    "np.cov(X.flatten(), y)"
   ]
  },
  {
   "cell_type": "code",
   "execution_count": null,
   "id": "1a563450-13fb-4b60-ae58-e9a768f47425",
   "metadata": {},
   "outputs": [],
   "source": [
    "covariance_xy = np.cov(X.flatten(), y)[0][1]\n",
    "\n",
    "print(f'covariance: {covariance_xy}')"
   ]
  },
  {
   "cell_type": "code",
   "execution_count": null,
   "id": "0c502825-1189-483f-93a7-5f2c905774cd",
   "metadata": {},
   "outputs": [],
   "source": [
    "slope = covariance_xy / variance_x\n",
    "\n",
    "print(f'slope: {slope}')"
   ]
  },
  {
   "cell_type": "code",
   "execution_count": null,
   "id": "531f7827-3b8c-4d2b-8838-10dac7e70ba1",
   "metadata": {},
   "outputs": [],
   "source": [
    "intercept = np.mean(y) - slope * np.mean(X)\n",
    "\n",
    "print(f'intercept: {intercept}')"
   ]
  },
  {
   "cell_type": "code",
   "execution_count": null,
   "id": "e0e2191f-f93e-4e12-8a34-7f388bdb491f",
   "metadata": {},
   "outputs": [],
   "source": [
    "diameter_roda = np.array([15, 20, 25]).reshape(-1, 1)\n",
    "diameter_roda"
   ]
  },
  {
   "cell_type": "code",
   "execution_count": null,
   "id": "8f5ed2f0-d40b-4dc8-a60f-86ca725b44bd",
   "metadata": {},
   "outputs": [],
   "source": [
    "prediksi_lebar = model.predict(diameter_roda)\n",
    "prediksi_lebar"
   ]
  },
  {
   "cell_type": "code",
   "execution_count": null,
   "id": "b6cf43da-6240-4343-9a06-44108fdcd309",
   "metadata": {},
   "outputs": [],
   "source": [
    "for dmtr, lbr in zip(diameter_roda, prediksi_lebar):\n",
    "    print(f'Diameter: {dmtr} prediksi_lebar: {lbr}')"
   ]
  },
  {
   "cell_type": "code",
   "execution_count": null,
   "id": "8be8904a-8119-4a82-a13e-21cf21e27a61",
   "metadata": {},
   "outputs": [],
   "source": [
    "X_train = np.array([6, 8, 10]).reshape(-1, 1)\n",
    "y_train = np.array([7, 7.5, 13])\n",
    "\n",
    "X_test = np.array([8, 9, 15]).reshape(-1, 1)\n",
    "y_test = np.array([11, 8.5,10])"
   ]
  },
  {
   "cell_type": "code",
   "execution_count": null,
   "id": "00c73510-d6a3-402b-a105-4b65cd5b2093",
   "metadata": {},
   "outputs": [],
   "source": [
    "model = LinearRegression()\n",
    "model.fit(X_train, y_train)"
   ]
  },
  {
   "cell_type": "code",
   "execution_count": null,
   "id": "e28d0444-395f-4bf5-ac85-2ddd1295c0b7",
   "metadata": {},
   "outputs": [],
   "source": [
    "from sklearn.metrics import r2_score\n",
    "\n",
    "y_pred = model.predict(X_test)\n",
    "\n",
    "r_squared = r2_score(y_test, y_pred)\n",
    "\n",
    "print(f'R-squared: {r_squared}')"
   ]
  },
  {
   "cell_type": "code",
   "execution_count": null,
   "id": "6c2bf8e3-8c1a-43aa-ae7c-bcb22cf9d797",
   "metadata": {},
   "outputs": [],
   "source": [
    "ss_res = sum([(y_i - model.predict(x_i.reshape(-1, 1))[0])**2\n",
    "              for x_i, y_i in zip(X_test, y_test)])\n",
    "\n",
    "print(f'ss_res: {ss_res}')"
   ]
  },
  {
   "cell_type": "code",
   "execution_count": null,
   "id": "ceb1ae33-bc19-4e8f-a24f-18eb635e3877",
   "metadata": {},
   "outputs": [],
   "source": [
    "mean_y = np.mean(y_test)\n",
    "ss_tot = sum([(y_i - mean_y)**2 for y_i in y_test])\n",
    "\n",
    "print(f'ss_tot: {ss_tot}')"
   ]
  },
  {
   "cell_type": "code",
   "execution_count": null,
   "id": "2ee66fbd-399a-44e3-8f84-45578c716b10",
   "metadata": {},
   "outputs": [],
   "source": [
    "r_squared = 1 - (ss_res / ss_tot)\n",
    "\n",
    "print(f'R-squared: {r_squared}')"
   ]
  },
  {
   "cell_type": "code",
   "execution_count": null,
   "id": "af113e43-adae-4749-a54f-eb43d7fbcc24",
   "metadata": {},
   "outputs": [],
   "source": []
  }
 ],
 "metadata": {
  "kernelspec": {
   "display_name": "Python 3 (ipykernel)",
   "language": "python",
   "name": "python3"
  },
  "language_info": {
   "codemirror_mode": {
    "name": "ipython",
    "version": 3
   },
   "file_extension": ".py",
   "mimetype": "text/x-python",
   "name": "python",
   "nbconvert_exporter": "python",
   "pygments_lexer": "ipython3",
   "version": "3.11.7"
  }
 },
 "nbformat": 4,
 "nbformat_minor": 5
}
